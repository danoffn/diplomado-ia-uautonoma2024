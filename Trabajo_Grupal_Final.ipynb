{
  "cells": [
    {
      "cell_type": "markdown",
      "metadata": {
        "id": "view-in-github",
        "colab_type": "text"
      },
      "source": [
        "<a href=\"https://colab.research.google.com/github/danoffn/diplomado-ia-uautonoma2024/blob/main/Trabajo_Grupal_Final.ipynb\" target=\"_parent\"><img src=\"https://colab.research.google.com/assets/colab-badge.svg\" alt=\"Open In Colab\"/></a>"
      ]
    },
    {
      "cell_type": "markdown",
      "metadata": {
        "id": "GwokcRA4P_Ym"
      },
      "source": [
        "# INTEGRANTES DEL GRUPO:\n",
        "\n",
        "### Nombre 1: Daniel Flores\n",
        "### Nombre 2: Ignacio Alonso García Aedo\n",
        "### Nombre 3: Javier Rivera Herrera\n",
        "### Nombre 4: Juan Pablo Romero\n",
        "### Nombre 5: Ximena Torres Zamora"
      ]
    },
    {
      "cell_type": "markdown",
      "metadata": {
        "id": "OatvyybtP_Yq"
      },
      "source": [
        "# Indicaciones\n",
        "\n",
        "## A. Objetivos de la tarea\n",
        "\n",
        "El objetivo de esta tarea es desarrollar y aplicar un modelo de regresión para predecir la temperatura de una ciudad europea, basándose en distintos parámetros climáticos.\n",
        "\n",
        "## B. Prerrequisitos para desarrollar la tarea\n",
        "\n",
        "Antes de trabajar en esta tarea deben haber comprendido los contenidos de la unidad de sobre algoritmos de aprendizaje supervisado, especialmente la temática sobre regresión lineal y árboles de decisión.\n",
        "\n",
        "## C. Instrucciones para la elaboración de la tarea\n",
        "\n",
        "REQUISITOS GENERALES\n",
        "\n",
        "Cumpla con lo indicado en cada sección. No se pide nada adicional a lo que se indica. Cualquier decisión debe estar justificada y fundamentada, no se considerará completamente correcto una decisión que no esté justificada."
      ]
    },
    {
      "cell_type": "markdown",
      "metadata": {
        "id": "VVPAI4DOP_Yr"
      },
      "source": [
        "## D. Librerías a utilizar"
      ]
    },
    {
      "cell_type": "markdown",
      "metadata": {
        "id": "2vKpjmqtP_Yr"
      },
      "source": [
        "Las librerías y modelos con los que pueden trabajar son los siguientes:"
      ]
    },
    {
      "cell_type": "code",
      "execution_count": 2,
      "metadata": {
        "id": "r1N2mDyPP_Yr"
      },
      "outputs": [],
      "source": [
        "import numpy as np\n",
        "import pandas as pd\n",
        "from sklearn.linear_model import LinearRegression, Ridge, Lasso, ElasticNet, SGDRegressor\n",
        "from sklearn.neural_network import MLPRegressor\n",
        "from sklearn.tree import DecisionTreeRegressor\n",
        "from sklearn.naive_bayes import GaussianNB\n",
        "from sklearn.svm import SVR\n",
        "from sklearn.neighbors import KNeighborsRegressor\n",
        "from sklearn.model_selection import train_test_split\n",
        "from sklearn.metrics import mean_squared_error, r2_score, mean_absolute_error, mean_absolute_percentage_error\n",
        "from sklearn.preprocessing import StandardScaler, MinMaxScaler, PolynomialFeatures\n",
        "import matplotlib.pyplot as plt\n",
        "import seaborn as sns"
      ]
    },
    {
      "cell_type": "markdown",
      "metadata": {
        "id": "5lpp52BxP_Ys"
      },
      "source": [
        "## E. Descripción del set de datos"
      ]
    },
    {
      "cell_type": "markdown",
      "metadata": {
        "id": "0W_uu5KfP_Ys"
      },
      "source": [
        "El archivo CSV 'historia_climatica' contiene un resumen por hora y día para una ciudad europea. </p>\n",
        "\n",
        "Los datos disponibles son: </p>\n",
        "\n",
        "**Fecha:** Representa el momento en el que se tomó la muestra, con información sobre la fecha y la hora. </br>\n",
        "**summary (resumen):** Descripción general del estado del tiempo en ese momento.</br>\n",
        "**precipType (tipo de precipitación):** Indica el tipo de precipitación (por ejemplo, lluvia, nieve o granizo).</br>\n",
        "**temperature (temperatura):** La temperatura en grados Celsius durante esa hora.</br>\n",
        "**humidity (humedad):** Porcentaje de humedad en el ambiente.</br>\n",
        "**windSpeed (velocidad del viento):** Velocidad del viento en ese momento, generalmente medida en kilómetros por hora (km/h) o metros por segundo (m/s).</br>\n",
        "**windBearing (dirección del viento):** Dirección desde la cual sopla el viento, medida en grados desde el norte verdadero.</br>\n",
        "**visibility (visibilidad):** La distancia horizontal a la cual se puede ver claramente un objeto, medida en kilómetros.</br>\n",
        "**loudCover (cobertura de nubes):** Indica la proporción de cielo cubierto por nubes en ese momento, generalmente expresado como un porcentaje.</br>\n",
        "**pressure (presión):** La presión atmosférica en ese momento, medida en hectopascales (hPa) o milibares (mbar).</br>\n",
        "**dailySummary (resumen diario):** Descripción general del estado del tiempo durante el día."
      ]
    },
    {
      "cell_type": "code",
      "execution_count": 12,
      "metadata": {
        "colab": {
          "base_uri": "https://localhost:8080/",
          "height": 310
        },
        "id": "HBPuSdbjP_Yt",
        "outputId": "89722003-b0f7-45de-f58c-e9960fe3f395"
      },
      "outputs": [
        {
          "output_type": "execute_result",
          "data": {
            "text/plain": [
              "         Summary Precip Type  Temperature (C)  Humidity  Wind Speed (km/h)  \\\n",
              "0  Partly Cloudy        rain         9.472222      0.89            14.1197   \n",
              "1  Partly Cloudy        rain         9.355556      0.86            14.2646   \n",
              "2  Mostly Cloudy        rain         9.377778      0.89             3.9284   \n",
              "3  Partly Cloudy        rain         8.288889      0.83            14.1036   \n",
              "4  Mostly Cloudy        rain         8.755556      0.83            11.0446   \n",
              "\n",
              "   Wind Bearing (degrees)  Visibility (km)  Loud Cover  Pressure (millibars)  \\\n",
              "0                   251.0          15.8263         0.0               1015.13   \n",
              "1                   259.0          15.8263         0.0               1015.63   \n",
              "2                   204.0          14.9569         0.0               1015.94   \n",
              "3                   269.0          15.8263         0.0               1016.41   \n",
              "4                   259.0          15.8263         0.0               1016.51   \n",
              "\n",
              "                       Daily Summary                Fecha  \n",
              "0  Partly cloudy throughout the day.  2006-04-01 00:00:00  \n",
              "1  Partly cloudy throughout the day.  2006-04-01 01:00:00  \n",
              "2  Partly cloudy throughout the day.  2006-04-01 02:00:00  \n",
              "3  Partly cloudy throughout the day.  2006-04-01 03:00:00  \n",
              "4  Partly cloudy throughout the day.  2006-04-01 04:00:00  "
            ],
            "text/html": [
              "\n",
              "  <div id=\"df-8aaf01e1-ba45-4f88-9fe3-3a42571e0b71\" class=\"colab-df-container\">\n",
              "    <div>\n",
              "<style scoped>\n",
              "    .dataframe tbody tr th:only-of-type {\n",
              "        vertical-align: middle;\n",
              "    }\n",
              "\n",
              "    .dataframe tbody tr th {\n",
              "        vertical-align: top;\n",
              "    }\n",
              "\n",
              "    .dataframe thead th {\n",
              "        text-align: right;\n",
              "    }\n",
              "</style>\n",
              "<table border=\"1\" class=\"dataframe\">\n",
              "  <thead>\n",
              "    <tr style=\"text-align: right;\">\n",
              "      <th></th>\n",
              "      <th>Summary</th>\n",
              "      <th>Precip Type</th>\n",
              "      <th>Temperature (C)</th>\n",
              "      <th>Humidity</th>\n",
              "      <th>Wind Speed (km/h)</th>\n",
              "      <th>Wind Bearing (degrees)</th>\n",
              "      <th>Visibility (km)</th>\n",
              "      <th>Loud Cover</th>\n",
              "      <th>Pressure (millibars)</th>\n",
              "      <th>Daily Summary</th>\n",
              "      <th>Fecha</th>\n",
              "    </tr>\n",
              "  </thead>\n",
              "  <tbody>\n",
              "    <tr>\n",
              "      <th>0</th>\n",
              "      <td>Partly Cloudy</td>\n",
              "      <td>rain</td>\n",
              "      <td>9.472222</td>\n",
              "      <td>0.89</td>\n",
              "      <td>14.1197</td>\n",
              "      <td>251.0</td>\n",
              "      <td>15.8263</td>\n",
              "      <td>0.0</td>\n",
              "      <td>1015.13</td>\n",
              "      <td>Partly cloudy throughout the day.</td>\n",
              "      <td>2006-04-01 00:00:00</td>\n",
              "    </tr>\n",
              "    <tr>\n",
              "      <th>1</th>\n",
              "      <td>Partly Cloudy</td>\n",
              "      <td>rain</td>\n",
              "      <td>9.355556</td>\n",
              "      <td>0.86</td>\n",
              "      <td>14.2646</td>\n",
              "      <td>259.0</td>\n",
              "      <td>15.8263</td>\n",
              "      <td>0.0</td>\n",
              "      <td>1015.63</td>\n",
              "      <td>Partly cloudy throughout the day.</td>\n",
              "      <td>2006-04-01 01:00:00</td>\n",
              "    </tr>\n",
              "    <tr>\n",
              "      <th>2</th>\n",
              "      <td>Mostly Cloudy</td>\n",
              "      <td>rain</td>\n",
              "      <td>9.377778</td>\n",
              "      <td>0.89</td>\n",
              "      <td>3.9284</td>\n",
              "      <td>204.0</td>\n",
              "      <td>14.9569</td>\n",
              "      <td>0.0</td>\n",
              "      <td>1015.94</td>\n",
              "      <td>Partly cloudy throughout the day.</td>\n",
              "      <td>2006-04-01 02:00:00</td>\n",
              "    </tr>\n",
              "    <tr>\n",
              "      <th>3</th>\n",
              "      <td>Partly Cloudy</td>\n",
              "      <td>rain</td>\n",
              "      <td>8.288889</td>\n",
              "      <td>0.83</td>\n",
              "      <td>14.1036</td>\n",
              "      <td>269.0</td>\n",
              "      <td>15.8263</td>\n",
              "      <td>0.0</td>\n",
              "      <td>1016.41</td>\n",
              "      <td>Partly cloudy throughout the day.</td>\n",
              "      <td>2006-04-01 03:00:00</td>\n",
              "    </tr>\n",
              "    <tr>\n",
              "      <th>4</th>\n",
              "      <td>Mostly Cloudy</td>\n",
              "      <td>rain</td>\n",
              "      <td>8.755556</td>\n",
              "      <td>0.83</td>\n",
              "      <td>11.0446</td>\n",
              "      <td>259.0</td>\n",
              "      <td>15.8263</td>\n",
              "      <td>0.0</td>\n",
              "      <td>1016.51</td>\n",
              "      <td>Partly cloudy throughout the day.</td>\n",
              "      <td>2006-04-01 04:00:00</td>\n",
              "    </tr>\n",
              "  </tbody>\n",
              "</table>\n",
              "</div>\n",
              "    <div class=\"colab-df-buttons\">\n",
              "\n",
              "  <div class=\"colab-df-container\">\n",
              "    <button class=\"colab-df-convert\" onclick=\"convertToInteractive('df-8aaf01e1-ba45-4f88-9fe3-3a42571e0b71')\"\n",
              "            title=\"Convert this dataframe to an interactive table.\"\n",
              "            style=\"display:none;\">\n",
              "\n",
              "  <svg xmlns=\"http://www.w3.org/2000/svg\" height=\"24px\" viewBox=\"0 -960 960 960\">\n",
              "    <path d=\"M120-120v-720h720v720H120Zm60-500h600v-160H180v160Zm220 220h160v-160H400v160Zm0 220h160v-160H400v160ZM180-400h160v-160H180v160Zm440 0h160v-160H620v160ZM180-180h160v-160H180v160Zm440 0h160v-160H620v160Z\"/>\n",
              "  </svg>\n",
              "    </button>\n",
              "\n",
              "  <style>\n",
              "    .colab-df-container {\n",
              "      display:flex;\n",
              "      gap: 12px;\n",
              "    }\n",
              "\n",
              "    .colab-df-convert {\n",
              "      background-color: #E8F0FE;\n",
              "      border: none;\n",
              "      border-radius: 50%;\n",
              "      cursor: pointer;\n",
              "      display: none;\n",
              "      fill: #1967D2;\n",
              "      height: 32px;\n",
              "      padding: 0 0 0 0;\n",
              "      width: 32px;\n",
              "    }\n",
              "\n",
              "    .colab-df-convert:hover {\n",
              "      background-color: #E2EBFA;\n",
              "      box-shadow: 0px 1px 2px rgba(60, 64, 67, 0.3), 0px 1px 3px 1px rgba(60, 64, 67, 0.15);\n",
              "      fill: #174EA6;\n",
              "    }\n",
              "\n",
              "    .colab-df-buttons div {\n",
              "      margin-bottom: 4px;\n",
              "    }\n",
              "\n",
              "    [theme=dark] .colab-df-convert {\n",
              "      background-color: #3B4455;\n",
              "      fill: #D2E3FC;\n",
              "    }\n",
              "\n",
              "    [theme=dark] .colab-df-convert:hover {\n",
              "      background-color: #434B5C;\n",
              "      box-shadow: 0px 1px 3px 1px rgba(0, 0, 0, 0.15);\n",
              "      filter: drop-shadow(0px 1px 2px rgba(0, 0, 0, 0.3));\n",
              "      fill: #FFFFFF;\n",
              "    }\n",
              "  </style>\n",
              "\n",
              "    <script>\n",
              "      const buttonEl =\n",
              "        document.querySelector('#df-8aaf01e1-ba45-4f88-9fe3-3a42571e0b71 button.colab-df-convert');\n",
              "      buttonEl.style.display =\n",
              "        google.colab.kernel.accessAllowed ? 'block' : 'none';\n",
              "\n",
              "      async function convertToInteractive(key) {\n",
              "        const element = document.querySelector('#df-8aaf01e1-ba45-4f88-9fe3-3a42571e0b71');\n",
              "        const dataTable =\n",
              "          await google.colab.kernel.invokeFunction('convertToInteractive',\n",
              "                                                    [key], {});\n",
              "        if (!dataTable) return;\n",
              "\n",
              "        const docLinkHtml = 'Like what you see? Visit the ' +\n",
              "          '<a target=\"_blank\" href=https://colab.research.google.com/notebooks/data_table.ipynb>data table notebook</a>'\n",
              "          + ' to learn more about interactive tables.';\n",
              "        element.innerHTML = '';\n",
              "        dataTable['output_type'] = 'display_data';\n",
              "        await google.colab.output.renderOutput(dataTable, element);\n",
              "        const docLink = document.createElement('div');\n",
              "        docLink.innerHTML = docLinkHtml;\n",
              "        element.appendChild(docLink);\n",
              "      }\n",
              "    </script>\n",
              "  </div>\n",
              "\n",
              "\n",
              "<div id=\"df-9c1afae2-fc98-4ab1-9ac6-89528f90c1cb\">\n",
              "  <button class=\"colab-df-quickchart\" onclick=\"quickchart('df-9c1afae2-fc98-4ab1-9ac6-89528f90c1cb')\"\n",
              "            title=\"Suggest charts\"\n",
              "            style=\"display:none;\">\n",
              "\n",
              "<svg xmlns=\"http://www.w3.org/2000/svg\" height=\"24px\"viewBox=\"0 0 24 24\"\n",
              "     width=\"24px\">\n",
              "    <g>\n",
              "        <path d=\"M19 3H5c-1.1 0-2 .9-2 2v14c0 1.1.9 2 2 2h14c1.1 0 2-.9 2-2V5c0-1.1-.9-2-2-2zM9 17H7v-7h2v7zm4 0h-2V7h2v10zm4 0h-2v-4h2v4z\"/>\n",
              "    </g>\n",
              "</svg>\n",
              "  </button>\n",
              "\n",
              "<style>\n",
              "  .colab-df-quickchart {\n",
              "      --bg-color: #E8F0FE;\n",
              "      --fill-color: #1967D2;\n",
              "      --hover-bg-color: #E2EBFA;\n",
              "      --hover-fill-color: #174EA6;\n",
              "      --disabled-fill-color: #AAA;\n",
              "      --disabled-bg-color: #DDD;\n",
              "  }\n",
              "\n",
              "  [theme=dark] .colab-df-quickchart {\n",
              "      --bg-color: #3B4455;\n",
              "      --fill-color: #D2E3FC;\n",
              "      --hover-bg-color: #434B5C;\n",
              "      --hover-fill-color: #FFFFFF;\n",
              "      --disabled-bg-color: #3B4455;\n",
              "      --disabled-fill-color: #666;\n",
              "  }\n",
              "\n",
              "  .colab-df-quickchart {\n",
              "    background-color: var(--bg-color);\n",
              "    border: none;\n",
              "    border-radius: 50%;\n",
              "    cursor: pointer;\n",
              "    display: none;\n",
              "    fill: var(--fill-color);\n",
              "    height: 32px;\n",
              "    padding: 0;\n",
              "    width: 32px;\n",
              "  }\n",
              "\n",
              "  .colab-df-quickchart:hover {\n",
              "    background-color: var(--hover-bg-color);\n",
              "    box-shadow: 0 1px 2px rgba(60, 64, 67, 0.3), 0 1px 3px 1px rgba(60, 64, 67, 0.15);\n",
              "    fill: var(--button-hover-fill-color);\n",
              "  }\n",
              "\n",
              "  .colab-df-quickchart-complete:disabled,\n",
              "  .colab-df-quickchart-complete:disabled:hover {\n",
              "    background-color: var(--disabled-bg-color);\n",
              "    fill: var(--disabled-fill-color);\n",
              "    box-shadow: none;\n",
              "  }\n",
              "\n",
              "  .colab-df-spinner {\n",
              "    border: 2px solid var(--fill-color);\n",
              "    border-color: transparent;\n",
              "    border-bottom-color: var(--fill-color);\n",
              "    animation:\n",
              "      spin 1s steps(1) infinite;\n",
              "  }\n",
              "\n",
              "  @keyframes spin {\n",
              "    0% {\n",
              "      border-color: transparent;\n",
              "      border-bottom-color: var(--fill-color);\n",
              "      border-left-color: var(--fill-color);\n",
              "    }\n",
              "    20% {\n",
              "      border-color: transparent;\n",
              "      border-left-color: var(--fill-color);\n",
              "      border-top-color: var(--fill-color);\n",
              "    }\n",
              "    30% {\n",
              "      border-color: transparent;\n",
              "      border-left-color: var(--fill-color);\n",
              "      border-top-color: var(--fill-color);\n",
              "      border-right-color: var(--fill-color);\n",
              "    }\n",
              "    40% {\n",
              "      border-color: transparent;\n",
              "      border-right-color: var(--fill-color);\n",
              "      border-top-color: var(--fill-color);\n",
              "    }\n",
              "    60% {\n",
              "      border-color: transparent;\n",
              "      border-right-color: var(--fill-color);\n",
              "    }\n",
              "    80% {\n",
              "      border-color: transparent;\n",
              "      border-right-color: var(--fill-color);\n",
              "      border-bottom-color: var(--fill-color);\n",
              "    }\n",
              "    90% {\n",
              "      border-color: transparent;\n",
              "      border-bottom-color: var(--fill-color);\n",
              "    }\n",
              "  }\n",
              "</style>\n",
              "\n",
              "  <script>\n",
              "    async function quickchart(key) {\n",
              "      const quickchartButtonEl =\n",
              "        document.querySelector('#' + key + ' button');\n",
              "      quickchartButtonEl.disabled = true;  // To prevent multiple clicks.\n",
              "      quickchartButtonEl.classList.add('colab-df-spinner');\n",
              "      try {\n",
              "        const charts = await google.colab.kernel.invokeFunction(\n",
              "            'suggestCharts', [key], {});\n",
              "      } catch (error) {\n",
              "        console.error('Error during call to suggestCharts:', error);\n",
              "      }\n",
              "      quickchartButtonEl.classList.remove('colab-df-spinner');\n",
              "      quickchartButtonEl.classList.add('colab-df-quickchart-complete');\n",
              "    }\n",
              "    (() => {\n",
              "      let quickchartButtonEl =\n",
              "        document.querySelector('#df-9c1afae2-fc98-4ab1-9ac6-89528f90c1cb button');\n",
              "      quickchartButtonEl.style.display =\n",
              "        google.colab.kernel.accessAllowed ? 'block' : 'none';\n",
              "    })();\n",
              "  </script>\n",
              "</div>\n",
              "\n",
              "    </div>\n",
              "  </div>\n"
            ],
            "application/vnd.google.colaboratory.intrinsic+json": {
              "type": "dataframe",
              "variable_name": "df",
              "summary": "{\n  \"name\": \"df\",\n  \"rows\": 96453,\n  \"fields\": [\n    {\n      \"column\": \"Summary\",\n      \"properties\": {\n        \"dtype\": \"category\",\n        \"num_unique_values\": 27,\n        \"samples\": [\n          \"Humid and Mostly Cloudy\",\n          \"Windy and Partly Cloudy\",\n          \"Humid and Partly Cloudy\"\n        ],\n        \"semantic_type\": \"\",\n        \"description\": \"\"\n      }\n    },\n    {\n      \"column\": \"Precip Type\",\n      \"properties\": {\n        \"dtype\": \"category\",\n        \"num_unique_values\": 2,\n        \"samples\": [\n          \"snow\",\n          \"rain\"\n        ],\n        \"semantic_type\": \"\",\n        \"description\": \"\"\n      }\n    },\n    {\n      \"column\": \"Temperature (C)\",\n      \"properties\": {\n        \"dtype\": \"number\",\n        \"std\": 9.551546320657026,\n        \"min\": -21.822222222222223,\n        \"max\": 39.90555555555555,\n        \"num_unique_values\": 7574,\n        \"samples\": [\n          34.8111111111111,\n          14.955555555555556\n        ],\n        \"semantic_type\": \"\",\n        \"description\": \"\"\n      }\n    },\n    {\n      \"column\": \"Humidity\",\n      \"properties\": {\n        \"dtype\": \"number\",\n        \"std\": 0.1954727390672154,\n        \"min\": 0.0,\n        \"max\": 1.0,\n        \"num_unique_values\": 90,\n        \"samples\": [\n          0.81,\n          0.8\n        ],\n        \"semantic_type\": \"\",\n        \"description\": \"\"\n      }\n    },\n    {\n      \"column\": \"Wind Speed (km/h)\",\n      \"properties\": {\n        \"dtype\": \"number\",\n        \"std\": 6.913930950349434,\n        \"min\": 0.0,\n        \"max\": 63.8526,\n        \"num_unique_values\": 2479,\n        \"samples\": [\n          20.6563,\n          5.1681\n        ],\n        \"semantic_type\": \"\",\n        \"description\": \"\"\n      }\n    },\n    {\n      \"column\": \"Wind Bearing (degrees)\",\n      \"properties\": {\n        \"dtype\": \"number\",\n        \"std\": 107.38342838070584,\n        \"min\": 0.0,\n        \"max\": 359.0,\n        \"num_unique_values\": 360,\n        \"samples\": [\n          128.0,\n          15.0\n        ],\n        \"semantic_type\": \"\",\n        \"description\": \"\"\n      }\n    },\n    {\n      \"column\": \"Visibility (km)\",\n      \"properties\": {\n        \"dtype\": \"number\",\n        \"std\": 4.192123191422782,\n        \"min\": 0.0,\n        \"max\": 16.1,\n        \"num_unique_values\": 949,\n        \"samples\": [\n          4.3953000000000015,\n          6.6332\n        ],\n        \"semantic_type\": \"\",\n        \"description\": \"\"\n      }\n    },\n    {\n      \"column\": \"Loud Cover\",\n      \"properties\": {\n        \"dtype\": \"number\",\n        \"std\": 0.0,\n        \"min\": 0.0,\n        \"max\": 0.0,\n        \"num_unique_values\": 1,\n        \"samples\": [\n          0.0\n        ],\n        \"semantic_type\": \"\",\n        \"description\": \"\"\n      }\n    },\n    {\n      \"column\": \"Pressure (millibars)\",\n      \"properties\": {\n        \"dtype\": \"number\",\n        \"std\": 116.98298208396744,\n        \"min\": 0.0,\n        \"max\": 1046.38,\n        \"num_unique_values\": 4978,\n        \"samples\": [\n          987.38\n        ],\n        \"semantic_type\": \"\",\n        \"description\": \"\"\n      }\n    },\n    {\n      \"column\": \"Daily Summary\",\n      \"properties\": {\n        \"dtype\": \"category\",\n        \"num_unique_values\": 214,\n        \"samples\": [\n          \"Partly cloudy until evening.\"\n        ],\n        \"semantic_type\": \"\",\n        \"description\": \"\"\n      }\n    },\n    {\n      \"column\": \"Fecha\",\n      \"properties\": {\n        \"dtype\": \"object\",\n        \"num_unique_values\": 96418,\n        \"samples\": [\n          \"2008-02-20 13:00:00\"\n        ],\n        \"semantic_type\": \"\",\n        \"description\": \"\"\n      }\n    }\n  ]\n}"
            }
          },
          "metadata": {},
          "execution_count": 12
        }
      ],
      "source": [
        "df = pd.read_csv('https://github.com/danoffn/diplomado-ia-uautonoma2024/blob/main/historia_climatica.csv?raw=true')\n",
        "df.head()"
      ]
    },
    {
      "cell_type": "markdown",
      "metadata": {
        "id": "uxQpw8LBP_Yt"
      },
      "source": [
        "# Parte I - Exploración de Datos"
      ]
    },
    {
      "cell_type": "markdown",
      "metadata": {
        "id": "lDSa7J_HP_Yt"
      },
      "source": [
        "# I.A. Inspección y Gestión de Datos Faltantes"
      ]
    },
    {
      "cell_type": "markdown",
      "metadata": {
        "id": "Cf-QIKyzP_Yt"
      },
      "source": [
        "Inspeccione si existen datos faltantes. En caso de que existan, realice una estrategia para gestionar estos datos. Puede encontrar útil la función fillna de pandas. Justifique su estrategia para cada columna con datos faltantes."
      ]
    },
    {
      "cell_type": "code",
      "source": [
        "from google.colab import drive\n",
        "drive.mount('/content/drive')"
      ],
      "metadata": {
        "id": "HNFV19B8Twsu"
      },
      "execution_count": null,
      "outputs": []
    },
    {
      "cell_type": "markdown",
      "metadata": {
        "id": "lNW3UjMUP_Yu"
      },
      "source": [
        "# I.B. Inspección y Gestión de Datos Anómalos"
      ]
    },
    {
      "cell_type": "markdown",
      "metadata": {
        "id": "_Usmazv5P_Yu"
      },
      "source": [
        "En el mundo del machine learning, es común encontrarse con datos anómalos. Estos pueden ser errores de medición, errores de transcripción, o simplemente valores que no tienen sentido en el contexto de la aplicación. En esta sección, se le pide que inspeccione los datos en busca de anomalías, y que desarrolle una estrategia para tratarlas. Puede ser útil graficar los datos para encontrar anomalías."
      ]
    },
    {
      "cell_type": "code",
      "execution_count": null,
      "metadata": {
        "id": "yaK67176P_Yu"
      },
      "outputs": [],
      "source": [
        "# Su código aquí"
      ]
    },
    {
      "cell_type": "markdown",
      "metadata": {
        "id": "PsnjALVOP_Yu"
      },
      "source": [
        "# I.C. Inspección y Gestión de Datos Categóricos"
      ]
    },
    {
      "cell_type": "markdown",
      "metadata": {
        "id": "kdv8zmcfP_Yu"
      },
      "source": [
        "Seleccione los datos categóricos que le parezcan relevantes para el modelo y transformelos a variables dummies. Justifique su elección y el por qué dejó fuera otras variables categóricas."
      ]
    },
    {
      "cell_type": "code",
      "execution_count": null,
      "metadata": {
        "id": "_tKQ_gy5P_Yu",
        "outputId": "282de96f-5a95-4a5b-c42b-106aca3f28ff"
      },
      "outputs": [
        {
          "data": {
            "text/html": [
              "<div>\n",
              "<style scoped>\n",
              "    .dataframe tbody tr th:only-of-type {\n",
              "        vertical-align: middle;\n",
              "    }\n",
              "\n",
              "    .dataframe tbody tr th {\n",
              "        vertical-align: top;\n",
              "    }\n",
              "\n",
              "    .dataframe thead th {\n",
              "        text-align: right;\n",
              "    }\n",
              "</style>\n",
              "<table border=\"1\" class=\"dataframe\">\n",
              "  <thead>\n",
              "    <tr style=\"text-align: right;\">\n",
              "      <th></th>\n",
              "      <th>Summary</th>\n",
              "      <th>Precip Type</th>\n",
              "      <th>Temperature (C)</th>\n",
              "      <th>Humidity</th>\n",
              "      <th>Wind Speed (km/h)</th>\n",
              "      <th>Wind Bearing (degrees)</th>\n",
              "      <th>Visibility (km)</th>\n",
              "      <th>Loud Cover</th>\n",
              "      <th>Pressure (millibars)</th>\n",
              "      <th>Daily Summary</th>\n",
              "      <th>Fecha</th>\n",
              "    </tr>\n",
              "  </thead>\n",
              "  <tbody>\n",
              "    <tr>\n",
              "      <th>0</th>\n",
              "      <td>Partly Cloudy</td>\n",
              "      <td>rain</td>\n",
              "      <td>9.472222</td>\n",
              "      <td>0.89</td>\n",
              "      <td>14.1197</td>\n",
              "      <td>251.0</td>\n",
              "      <td>15.8263</td>\n",
              "      <td>0.0</td>\n",
              "      <td>1015.13</td>\n",
              "      <td>Partly cloudy throughout the day.</td>\n",
              "      <td>2006-04-01 00:00:00</td>\n",
              "    </tr>\n",
              "    <tr>\n",
              "      <th>1</th>\n",
              "      <td>Partly Cloudy</td>\n",
              "      <td>rain</td>\n",
              "      <td>9.355556</td>\n",
              "      <td>0.86</td>\n",
              "      <td>14.2646</td>\n",
              "      <td>259.0</td>\n",
              "      <td>15.8263</td>\n",
              "      <td>0.0</td>\n",
              "      <td>1015.63</td>\n",
              "      <td>Partly cloudy throughout the day.</td>\n",
              "      <td>2006-04-01 01:00:00</td>\n",
              "    </tr>\n",
              "    <tr>\n",
              "      <th>2</th>\n",
              "      <td>Mostly Cloudy</td>\n",
              "      <td>rain</td>\n",
              "      <td>9.377778</td>\n",
              "      <td>0.89</td>\n",
              "      <td>3.9284</td>\n",
              "      <td>204.0</td>\n",
              "      <td>14.9569</td>\n",
              "      <td>0.0</td>\n",
              "      <td>1015.94</td>\n",
              "      <td>Partly cloudy throughout the day.</td>\n",
              "      <td>2006-04-01 02:00:00</td>\n",
              "    </tr>\n",
              "    <tr>\n",
              "      <th>3</th>\n",
              "      <td>Partly Cloudy</td>\n",
              "      <td>rain</td>\n",
              "      <td>8.288889</td>\n",
              "      <td>0.83</td>\n",
              "      <td>14.1036</td>\n",
              "      <td>269.0</td>\n",
              "      <td>15.8263</td>\n",
              "      <td>0.0</td>\n",
              "      <td>1016.41</td>\n",
              "      <td>Partly cloudy throughout the day.</td>\n",
              "      <td>2006-04-01 03:00:00</td>\n",
              "    </tr>\n",
              "    <tr>\n",
              "      <th>4</th>\n",
              "      <td>Mostly Cloudy</td>\n",
              "      <td>rain</td>\n",
              "      <td>8.755556</td>\n",
              "      <td>0.83</td>\n",
              "      <td>11.0446</td>\n",
              "      <td>259.0</td>\n",
              "      <td>15.8263</td>\n",
              "      <td>0.0</td>\n",
              "      <td>1016.51</td>\n",
              "      <td>Partly cloudy throughout the day.</td>\n",
              "      <td>2006-04-01 04:00:00</td>\n",
              "    </tr>\n",
              "  </tbody>\n",
              "</table>\n",
              "</div>"
            ],
            "text/plain": [
              "         Summary Precip Type  Temperature (C)  Humidity  Wind Speed (km/h)  \\\n",
              "0  Partly Cloudy        rain         9.472222      0.89            14.1197   \n",
              "1  Partly Cloudy        rain         9.355556      0.86            14.2646   \n",
              "2  Mostly Cloudy        rain         9.377778      0.89             3.9284   \n",
              "3  Partly Cloudy        rain         8.288889      0.83            14.1036   \n",
              "4  Mostly Cloudy        rain         8.755556      0.83            11.0446   \n",
              "\n",
              "   Wind Bearing (degrees)  Visibility (km)  Loud Cover  Pressure (millibars)  \\\n",
              "0                   251.0          15.8263         0.0               1015.13   \n",
              "1                   259.0          15.8263         0.0               1015.63   \n",
              "2                   204.0          14.9569         0.0               1015.94   \n",
              "3                   269.0          15.8263         0.0               1016.41   \n",
              "4                   259.0          15.8263         0.0               1016.51   \n",
              "\n",
              "                       Daily Summary                Fecha  \n",
              "0  Partly cloudy throughout the day.  2006-04-01 00:00:00  \n",
              "1  Partly cloudy throughout the day.  2006-04-01 01:00:00  \n",
              "2  Partly cloudy throughout the day.  2006-04-01 02:00:00  \n",
              "3  Partly cloudy throughout the day.  2006-04-01 03:00:00  \n",
              "4  Partly cloudy throughout the day.  2006-04-01 04:00:00  "
            ]
          },
          "execution_count": 66,
          "metadata": {},
          "output_type": "execute_result"
        }
      ],
      "source": [
        "# Su código aquí"
      ]
    },
    {
      "cell_type": "markdown",
      "metadata": {
        "id": "HEXBJ3JFP_Yv"
      },
      "source": [
        "# II. Selección de Variables y Atributos Temporales"
      ]
    },
    {
      "cell_type": "markdown",
      "metadata": {
        "id": "z2rqNipVP_Yv"
      },
      "source": [
        "# II.A. Selección de Variables"
      ]
    },
    {
      "cell_type": "markdown",
      "metadata": {
        "id": "k-UZieexP_Yv"
      },
      "source": [
        "Seleccione las variables que utilizará para el modelo de regresión. Justifique su elección y el por qué no utiliza otras variables."
      ]
    },
    {
      "cell_type": "code",
      "execution_count": null,
      "metadata": {
        "id": "a5UPasoAP_Yv"
      },
      "outputs": [],
      "source": [
        "# Su código aquí"
      ]
    },
    {
      "cell_type": "markdown",
      "metadata": {
        "id": "DheIeZy7P_Yv"
      },
      "source": [
        "# II.B. Creación de Variables Temporales"
      ]
    },
    {
      "cell_type": "markdown",
      "metadata": {
        "id": "OrcOUnZxP_Yv"
      },
      "source": [
        "En un modelo de regresión, es importante considerar la fecha como un atributo temporal. Elija y justifique la elección o no elección de variables temporales.\n",
        "\n",
        "Para esto, se proporciona un código base para el procesamiento de la fecha, será útil en el caso de que se quiera usar algún atributo de la fecha; como por ejemplo el año, mes o día. Debe transformar la columna 'fecha' a un fomato de tiempo de pandas, para eso utilice la función pd.to_datetime(). Luego puede extraer el año, mes o día con las siguientes funciones:\n",
        "\n",
        "df['Fecha'].dt.year  &ensp; | &ensp;  extrae el año </br>\n",
        "df['Fecha'].dt.month   &ensp; | &ensp;   extrae el mes </br>\n",
        "df['Fecha'].dt.day     &ensp; | &ensp;   extrae el día </br>\n",
        "df['Fecha'].dt.hour    &ensp; | &ensp;   extrae la hora"
      ]
    },
    {
      "cell_type": "code",
      "execution_count": null,
      "metadata": {
        "id": "HHA-WGP_P_Yv"
      },
      "outputs": [],
      "source": []
    },
    {
      "cell_type": "markdown",
      "metadata": {
        "id": "S8TbpfdYP_Yv"
      },
      "source": [
        "# III. Desarrolle y Evalúe un Modelo de Regresión"
      ]
    },
    {
      "cell_type": "markdown",
      "metadata": {
        "id": "9YQyyu0KP_Yw"
      },
      "source": [
        "Se se solicita que se realice un modelo de regresión lineal para predecir la temperatura en base a los datos entregados. Para esto, debe realizar un modelo de regresión, puede usar cualquiera de los modelos importados en el apartado 'D.', se prohíble el uso de modelos basado en ensamblados o redes neuronales profundas. Debe testear el modelo con al menos 20% del set de datos. Debe calcular el error absoluto medio (MAE) y el coeficiente de determinación (R2). Qué puede decir de los resultados obtenidos? **Se solicita un error absoluto medio menor a 3 grados celcius, elija otra métrica adicional e interprete los resultados.** Precaución: No testear sobre los datos de entrenamiento."
      ]
    },
    {
      "cell_type": "code",
      "execution_count": null,
      "metadata": {
        "id": "TNQXAJzhP_Yw"
      },
      "outputs": [],
      "source": [
        "# Su código aquí"
      ]
    },
    {
      "cell_type": "markdown",
      "metadata": {
        "id": "gOu7vAMUP_Yw"
      },
      "source": [
        "# IV. Reflexión Final"
      ]
    },
    {
      "cell_type": "markdown",
      "metadata": {
        "id": "BzcJXznrP_Yw"
      },
      "source": [
        "Realice una reflexión final sobre el trabajo realizado. ¿Qué puede decir de los resultados obtenidos? ¿Qué mejoras se podrían realizar? ¿Qué aprendió en esta actividad? ¿Considera que le será útil en su futuro profesional? ¿Por qué?"
      ]
    },
    {
      "cell_type": "markdown",
      "metadata": {
        "id": "YxLhjTxFP_Yw"
      },
      "source": [
        "Su Reflexión Aquí"
      ]
    }
  ],
  "metadata": {
    "kernelspec": {
      "display_name": "MLASR",
      "language": "python",
      "name": "python3"
    },
    "language_info": {
      "codemirror_mode": {
        "name": "ipython",
        "version": 3
      },
      "file_extension": ".py",
      "mimetype": "text/x-python",
      "name": "python",
      "nbconvert_exporter": "python",
      "pygments_lexer": "ipython3",
      "version": "3.6.13"
    },
    "orig_nbformat": 4,
    "vscode": {
      "interpreter": {
        "hash": "7dda5c4e115c2802861c8cd60c6f08308a51f154727e6cc497e3d5bc406deace"
      }
    },
    "colab": {
      "provenance": [],
      "include_colab_link": true
    }
  },
  "nbformat": 4,
  "nbformat_minor": 0
}